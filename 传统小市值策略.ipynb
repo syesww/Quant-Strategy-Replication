{
 "cells": [
  {
   "cell_type": "code",
   "execution_count": 1,
   "id": "e867a0b7-a2b0-4d3c-9bb9-5277629113b6",
   "metadata": {},
   "outputs": [],
   "source": [
    "from DBapi import *\n",
    "import sqlite3\n",
    "import pandas as pd\n",
    "from datetime import datetime, timedelta\n",
    "from tqdm import tqdm\n",
    "import warnings\n",
    "\n",
    "warnings.filterwarnings(\"ignore\")"
   ]
  },
  {
   "cell_type": "code",
   "execution_count": 2,
   "id": "40c2c66e-adda-465c-9850-32a305ad3a75",
   "metadata": {},
   "outputs": [],
   "source": [
    "# 初步排雷,获得初步筛选的股票池\n",
    "# 1. 过去一个月里，流通市值小于20亿 并且 市盈率ttm > 0\n",
    "# 2. 上市时间 > 365\n",
    "\n",
    "def get_stock_list(current_date):\n",
    "    one_month_ago = (datetime.strptime(current_date, '%Y-%m-%d') - timedelta(days=30)).strftime('%Y-%m-%d')\n",
    "    one_year_ago = (datetime.strptime(current_date, '%Y-%m-%d') - timedelta(days=365)).strftime('%Y-%m-%d')\n",
    "\n",
    "    conn = sqlite3.connect('/Users/syesw/Desktop/Quant DataBase/AShares.db')\n",
    "\n",
    "    # query1筛选市盈率和流通市值\n",
    "    query1 = '''\n",
    "    SELECT DISTINCT order_book_id\n",
    "    FROM stocks_factors\n",
    "    WHERE pe_ratio_ttm > 0\n",
    "        AND market_cap < 2000000000\n",
    "        AND date BETWEEN date(?) AND date(?)\n",
    "    '''\n",
    "\n",
    "    # query2筛选上市时间 深圳主板公司 XSHE\n",
    "    query2 = '''\n",
    "    SELECT DISTINCT order_book_id\n",
    "    FROM stocks_info\n",
    "    WHERE date(listed_date) < date(?) AND exchange = 'XSHE'\n",
    "    '''\n",
    "\n",
    "    df1 = pd.read_sql_query(query1, conn, params=(one_month_ago, current_date,))\n",
    "    df2 = pd.read_sql_query(query2, conn, params=(one_year_ago,))\n",
    "\n",
    "    conn.close()\n",
    "\n",
    "    stock_list = list(pd.merge(df1, df2, on='order_book_id')['order_book_id'])\n",
    "    \n",
    "    return stock_list"
   ]
  },
  {
   "cell_type": "code",
   "execution_count": 3,
   "id": "547056b8-a597-4180-a2d8-4292fc074dd5",
   "metadata": {},
   "outputs": [],
   "source": [
    "# 获取因子排名前10的股票\n",
    "def get_top_stocks(d1, stock_list):\n",
    "    # 连接到SQLite数据库\n",
    "    conn = sqlite3.connect('/Users/syesw/Desktop/Quant DataBase/AShares.db')\n",
    "    cursor = conn.cursor()\n",
    "    order_book_ids = ','.join(['\"{}\"'.format(id) for id in stock_list])\n",
    "    \n",
    "    d1 = datetime.strptime(d1, '%Y-%m-%d')\n",
    "    d2 = d1 + timedelta(days=1)\n",
    "    d2 = d2.strftime('%Y-%m-%d')\n",
    "    \n",
    "    query = f\"\"\"\n",
    "        SELECT order_book_id\n",
    "        FROM stocks_factors\n",
    "        WHERE order_book_id IN ({order_book_ids}) AND date BETWEEN '{d1}' AND '{d2}' AND market_cap_2 > 10\n",
    "        ORDER BY market_cap_2\n",
    "        LIMIT 10;\n",
    "    \"\"\"\n",
    "\n",
    "    cursor.execute(query)\n",
    "    results = cursor.fetchall()\n",
    "    order_book_ids = [result[0] for result in results]\n",
    "    \n",
    "    cursor.close()\n",
    "    conn.close()\n",
    "    \n",
    "    return order_book_ids"
   ]
  },
  {
   "cell_type": "code",
   "execution_count": null,
   "id": "7704e908-bafd-4d4c-baa7-9e9350befeaf",
   "metadata": {},
   "outputs": [],
   "source": []
  },
  {
   "cell_type": "code",
   "execution_count": 4,
   "id": "972f9189-f9fd-4e25-937f-486718621517",
   "metadata": {},
   "outputs": [],
   "source": [
    "import backtrader as bt"
   ]
  },
  {
   "cell_type": "code",
   "execution_count": 5,
   "id": "84e74e25-7470-4be8-9059-9f4ae0b8ec14",
   "metadata": {},
   "outputs": [],
   "source": [
    "stock = get_factors('600689.XSHG', ['market_cap'], '2020-01-01', '2021-01-01')"
   ]
  },
  {
   "cell_type": "code",
   "execution_count": 6,
   "id": "d9bf9da2-fd33-4754-91c4-62dfe6349df2",
   "metadata": {},
   "outputs": [
    {
     "data": {
      "text/plain": [
       "['2020-01-02',\n",
       " '2020-02-03',\n",
       " '2020-03-02',\n",
       " '2020-04-01',\n",
       " '2020-05-06',\n",
       " '2020-06-01',\n",
       " '2020-07-01',\n",
       " '2020-08-03',\n",
       " '2020-09-01',\n",
       " '2020-10-09',\n",
       " '2020-11-02',\n",
       " '2020-12-01']"
      ]
     },
     "execution_count": 6,
     "metadata": {},
     "output_type": "execute_result"
    }
   ],
   "source": [
    "stock['date'] = pd.to_datetime(stock['date'])\n",
    "stock['date'] = stock['date'].dt.strftime('%Y-%m-%d')\n",
    "trade_dates = stock['date'].to_list()\n",
    "# trade_dates是交易日\n",
    "# print(trade_dates[:5])\n",
    "\n",
    "# 计算调仓时间\n",
    "trade = pd.to_datetime(trade_dates)\n",
    "df = pd.DataFrame({'date': trade_dates})\n",
    "df['date'] = pd.to_datetime(df['date'])\n",
    "first_trading_dates = df.groupby(df['date'].dt.to_period('M')).first()\n",
    "formatted_dates = first_trading_dates['date'].dt.strftime('%Y-%m-%d').tolist()\n",
    "\n",
    "# 注意时间都以str来储存，方便进行比较\n",
    "formatted_dates"
   ]
  },
  {
   "cell_type": "code",
   "execution_count": 7,
   "id": "08f37a83-96bd-49a4-ad7e-a0d85078aa46",
   "metadata": {},
   "outputs": [
    {
     "name": "stderr",
     "output_type": "stream",
     "text": [
      "100%|███████████████████████████████████████████| 12/12 [03:13<00:00, 16.09s/it]\n"
     ]
    }
   ],
   "source": [
    "# 把调仓储存起来\n",
    "stocks_dict = {}\n",
    "all_stocks = []\n",
    "for d1 in tqdm(formatted_dates):\n",
    "    # 每个月先初步筛选\n",
    "    stock_list = get_stock_list(d1)\n",
    "    all_stocks.extend(stock_list)\n",
    "    # 再筛选排序后的因子\n",
    "    top_stocks = get_top_stocks(d1, stock_list)\n",
    "    stocks_dict[d1] = top_stocks"
   ]
  },
  {
   "cell_type": "code",
   "execution_count": 8,
   "id": "46b78155-0ff7-4521-a1d0-dafc521aa376",
   "metadata": {},
   "outputs": [],
   "source": [
    "all_stocks = list(set(all_stocks))"
   ]
  },
  {
   "cell_type": "code",
   "execution_count": 10,
   "id": "fd245982-e80a-43f6-8ebc-e0bf5c6fa7dc",
   "metadata": {},
   "outputs": [],
   "source": [
    "# 把这些拿去喂就行了\n",
    "# all_stocks"
   ]
  },
  {
   "cell_type": "code",
   "execution_count": null,
   "id": "0d38b33f-9a8c-4485-ae3c-11cefb1ccb5e",
   "metadata": {},
   "outputs": [],
   "source": []
  },
  {
   "cell_type": "code",
   "execution_count": 11,
   "id": "4d2494c5-6543-4e3e-b47a-267727bd3af5",
   "metadata": {},
   "outputs": [],
   "source": [
    "# 交易策略\n",
    "class Small_Cap_Strategy(bt.Strategy):\n",
    "    def __init__(self):\n",
    "        self.trade_log = []  # 初始化交易日志\n",
    "        self.dates = []\n",
    "        self.vals = []\n",
    "        self.order = None\n",
    "        self.rebalance_dates = formatted_dates # 调仓日期列表\n",
    "\n",
    "    def notify_order(self, order):\n",
    "        # 重构交易记录\n",
    "        if order.status in [order.Completed]:\n",
    "            if order.isbuy():\n",
    "                trade_type = 'BUY'\n",
    "            elif order.issell():\n",
    "                trade_type = 'SELL'\n",
    "            \n",
    "            self.trade_log.append({\n",
    "                'Date': bt.num2date(order.executed.dt),\n",
    "                'Stock': order.data._name,\n",
    "                'Type': trade_type,\n",
    "                'Price': order.executed.price,\n",
    "                'Size': order.executed.size\n",
    "            })\n",
    "\n",
    "    def next(self):\n",
    "        # 获取当前日期\n",
    "        current_date = str(self.datas[0].datetime.date(0))\n",
    "        #print(current_date)\n",
    "\n",
    "        # 检查是否是指定的调仓日期\n",
    "        if current_date in self.rebalance_dates:\n",
    "            self.rebalance_portfolio(current_date)\n",
    "            \n",
    "        self.vals.append(self.broker.getvalue()) # 更新净值\n",
    "        self.dates.append(self.datas[0].datetime.date(0)) \n",
    "        \n",
    "    def rebalance_portfolio(self, current_date):\n",
    "        # 获取对应日期的股票列表\n",
    "        \n",
    "        assets = stocks_dict[current_date]\n",
    "        positions = self.getpositions()\n",
    "        \n",
    "        # 不在列表就卖掉\n",
    "        for data in positions:\n",
    "            if data._name not in assets:\n",
    "                self.close(data)\n",
    "\n",
    "        # 分配资金至目标股票\n",
    "        if len(assets) > 0:\n",
    "            weight = 1.0 / len(assets)\n",
    "            \n",
    "            for stock in assets:\n",
    "                self.order_target_percent(stock, target=weight)"
   ]
  },
  {
   "cell_type": "code",
   "execution_count": 12,
   "id": "4a6bac99-06a7-4a2f-aecf-470c6dcb1c52",
   "metadata": {},
   "outputs": [],
   "source": [
    "\n",
    "conn = sqlite3.connect('/Users/syesw/Desktop/Quant DataBase/AShares.db')\n",
    "query = '''\n",
    "    SELECT s.order_book_id, s.date, s.open, s.close, s.high, s.low, s.volume\n",
    "    FROM stocks_fundamentals AS s\n",
    "    INNER JOIN stocks_info AS i ON s.order_book_id = i.order_book_id\n",
    "    WHERE i.exchange = 'XSHE'\n",
    "'''\n",
    "df = pd.read_sql_query(query, conn)\n",
    "conn.close()"
   ]
  },
  {
   "cell_type": "code",
   "execution_count": 13,
   "id": "a3220124-3a07-454f-831b-5d66a1a14c8b",
   "metadata": {},
   "outputs": [],
   "source": [
    "#'''\n",
    "#df['date'] = pd.to_datetime(df['date'])\n",
    "#df['date'] = df['date'].dt.date\n",
    "#df['date'] = pd.to_datetime(df['date'])\n",
    "#df['date']\n",
    "#'''"
   ]
  },
  {
   "cell_type": "code",
   "execution_count": 14,
   "id": "7f04482a-0211-4643-b8dc-d74098ca7204",
   "metadata": {},
   "outputs": [],
   "source": [
    "def get_clean_stock_data(df, order_book_id, start_time=None, end_time=None):\n",
    "    filtered_df = df[df['order_book_id'] == order_book_id]\n",
    "\n",
    "    filtered_df['date'] = pd.to_datetime(df['date'])\n",
    "    filtered_df['date'] = filtered_df['date'].dt.date\n",
    "    filtered_df['date'] = pd.to_datetime(df['date'])\n",
    "    \n",
    "    filtered_df.index = filtered_df['date']\n",
    "    filtered_df = filtered_df.drop(['order_book_id', 'date'], axis=1)\n",
    "    filtered_df['openinterest'] = 0\n",
    "    \n",
    "    if start_time is not None:\n",
    "        filtered_df = filtered_df.loc[start_time:]\n",
    "    if end_time is not None:\n",
    "        filtered_df = filtered_df.loc[:end_time]\n",
    "    \n",
    "    return filtered_df"
   ]
  },
  {
   "cell_type": "code",
   "execution_count": 15,
   "id": "a6060922-41cc-4c8e-8059-8e83f3fa0c58",
   "metadata": {},
   "outputs": [],
   "source": [
    "#all_stocks = df['order_book_id'].unique().tolist()\n",
    "#len(all_stocks)"
   ]
  },
  {
   "cell_type": "code",
   "execution_count": 16,
   "id": "f298cc83-fdf3-41ba-b74c-e8c17d9dffb4",
   "metadata": {},
   "outputs": [],
   "source": [
    "cerebro = bt.Cerebro()\n",
    "\n",
    "start_date = datetime(2020,1,1)\n",
    "end_date = datetime(2021,1,1)"
   ]
  },
  {
   "cell_type": "code",
   "execution_count": 17,
   "id": "04e3fd53-4d02-47fc-95ca-ffabb746540f",
   "metadata": {},
   "outputs": [
    {
     "data": {
      "text/plain": [
       "pandas._libs.tslibs.timestamps.Timestamp"
      ]
     },
     "execution_count": 17,
     "metadata": {},
     "output_type": "execute_result"
    }
   ],
   "source": [
    "st = get_clean_stock_data(df, '300720.XSHE', start_date, end_date)\n",
    "type(st.index[0])"
   ]
  },
  {
   "cell_type": "code",
   "execution_count": null,
   "id": "8eb7ab55-0785-4066-a866-f0a6ae525122",
   "metadata": {},
   "outputs": [],
   "source": []
  },
  {
   "cell_type": "code",
   "execution_count": 18,
   "id": "8ea54854-5d07-4cb1-bd62-7904e8461893",
   "metadata": {},
   "outputs": [
    {
     "name": "stderr",
     "output_type": "stream",
     "text": [
      "100%|█████████████████████████████████████████| 265/265 [34:27<00:00,  7.80s/it]\n"
     ]
    }
   ],
   "source": [
    "# feed数据\n",
    "for stock_code in tqdm(all_stocks):\n",
    "    stock_data = get_clean_stock_data(df, stock_code, start_date, end_date)\n",
    "    # print(stock_data)\n",
    "    # 喂给cerebro\n",
    "    feed = bt.feeds.PandasData(dataname =stock_data, fromdate=start_date, todate=end_date)\n",
    "    #print(feed)\n",
    "    cerebro.adddata(feed, name=stock_code)\n",
    "    "
   ]
  },
  {
   "cell_type": "code",
   "execution_count": 19,
   "id": "ae378c4d-4109-40ef-b648-a7b794b66b81",
   "metadata": {},
   "outputs": [],
   "source": [
    "cerebro.addstrategy(Small_Cap_Strategy)\n",
    "cerebro.broker.setcash(1000000)\n",
    "cerebro.broker.setcommission(0.0002)\n",
    "\n",
    "results = cerebro.run()\n",
    "strategy = results[0]"
   ]
  },
  {
   "cell_type": "code",
   "execution_count": 20,
   "id": "32dcb854-b2f0-4649-a4cf-2e9d527ac4cc",
   "metadata": {},
   "outputs": [],
   "source": [
    "#final_balance = cerebro.broker.getvalue()\n",
    "#final_balance"
   ]
  },
  {
   "cell_type": "code",
   "execution_count": 21,
   "id": "5613775a-bf3a-427a-a516-3c073b10af96",
   "metadata": {},
   "outputs": [
    {
     "data": {
      "image/png": "[encoded data removed]",
      "text/plain": [
       "<Figure size 1000x600 with 1 Axes>"
      ]
     },
     "metadata": {},
     "output_type": "display_data"
    }
   ],
   "source": [
    "import matplotlib.pyplot as plt\n",
    "import matplotlib.dates as mdates\n",
    "\n",
    "plt.figure(figsize=(10, 6))\n",
    "plt.plot(strategy.dates, strategy.vals)\n",
    "plt.title('Portfolio Value Over Time')\n",
    "plt.xlabel('Date')\n",
    "plt.ylabel('Portfolio Value')\n",
    "plt.show()"
   ]
  },
  {
   "cell_type": "code",
   "execution_count": 24,
   "id": "d815fede-a46d-4a92-82e3-2a3eef2f261f",
   "metadata": {},
   "outputs": [
    {
     "name": "stdout",
     "output_type": "stream",
     "text": [
      "回测结束，总收益：416549.68905910035\n",
      "年化收益率：0.41654968905910034\n"
     ]
    }
   ],
   "source": [
    "# 计算统计指标\n",
    "end_value = cerebro.broker.get_value()\n",
    "start_value = results[0].broker.startingcash\n",
    "pnl = end_value - start_value\n",
    "\n",
    "T = 1\n",
    "annualized_return = (pnl / start_value)\n",
    "\n",
    "# 输出总收益和年化收益率\n",
    "print(f\"回测结束，总收益：{pnl}\")\n",
    "print(f\"年化收益率：{annualized_return}\")"
   ]
  },
  {
   "cell_type": "code",
   "execution_count": null,
   "id": "8ccf97b0-fd63-4a85-97b0-decf0c167e8d",
   "metadata": {},
   "outputs": [],
   "source": []
  }
 ],
 "metadata": {
  "kernelspec": {
   "display_name": "Python 3 (ipykernel)",
   "language": "python",
   "name": "python3"
  },
  "language_info": {
   "codemirror_mode": {
    "name": "ipython",
    "version": 3
   },
   "file_extension": ".py",
   "mimetype": "text/x-python",
   "name": "python",
   "nbconvert_exporter": "python",
   "pygments_lexer": "ipython3",
   "version": "3.11.5"
  }
 },
 "nbformat": 4,
 "nbformat_minor": 5
}
